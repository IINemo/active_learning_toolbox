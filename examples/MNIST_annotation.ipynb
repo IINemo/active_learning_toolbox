{
 "cells": [
  {
   "cell_type": "markdown",
   "metadata": {},
   "source": [
    "# MNIST annotation example"
   ]
  },
  {
   "cell_type": "code",
   "execution_count": null,
   "metadata": {
    "ExecuteTime": {
     "end_time": "2017-09-19T07:06:59.047801Z",
     "start_time": "2017-09-19T07:06:58.786121Z"
    }
   },
   "outputs": [],
   "source": [
    "%load_ext autoreload\n",
    "%autoreload 2\n",
    "\n",
    "import os, sys\n",
    "os.environ['CUDA_VISIBLE_DEVICES'] = ''\n",
    "\n",
    "sys.path.append('../')\n",
    "\n",
    "import matplotlib.pyplot as plt, collections, logging\n",
    "%pylab inline"
   ]
  },
  {
   "cell_type": "markdown",
   "metadata": {},
   "source": [
    "# Initialization"
   ]
  },
  {
   "cell_type": "code",
   "execution_count": null,
   "metadata": {
    "ExecuteTime": {
     "end_time": "2017-09-19T07:07:00.044946Z",
     "start_time": "2017-09-19T07:06:59.933855Z"
    }
   },
   "outputs": [],
   "source": [
    "import pandas\n",
    "import numpy\n",
    "\n",
    "from keras.datasets import mnist\n",
    "from keras.models import Sequential\n",
    "from keras.layers import Dense\n",
    "from keras.layers import Dropout\n",
    "from keras.utils import np_utils\n",
    "from keras.wrappers.scikit_learn import KerasClassifier\n",
    "\n",
    "from sklearn.metrics import f1_score, accuracy_score\n",
    "\n",
    "from libact.query_strategies import UncertaintySampling\n",
    "from libact.models import LogisticRegression as LibActLogisticRegression, SklearnProbaAdapter\n",
    "\n",
    "from actleto import ActiveLearner, make_libact_strategy_ctor, MPErr, ActiveLearnerUiWidget, ImageVisualizer"
   ]
  },
  {
   "cell_type": "code",
   "execution_count": null,
   "metadata": {
    "ExecuteTime": {
     "end_time": "2017-09-19T07:07:02.574046Z",
     "start_time": "2017-09-19T07:07:02.485003Z"
    }
   },
   "outputs": [],
   "source": [
    "import logging\n",
    "\n",
    "# Logger is needed for the default evaluation output and some notifications\n",
    "logger = logging.getLogger('actleto')\n",
    "formatter = logging.Formatter('%(asctime)s - %(name)s - %(levelname)s - %(message)s')    \n",
    "strm_hdl = logging.StreamHandler(sys.stdout)\n",
    "strm_hdl.setFormatter(formatter)\n",
    "logger.addHandler(strm_hdl)\n",
    "logger.setLevel(logging.INFO)"
   ]
  },
  {
   "cell_type": "markdown",
   "metadata": {},
   "source": [
    "# Dataset preparation"
   ]
  },
  {
   "cell_type": "code",
   "execution_count": null,
   "metadata": {
    "ExecuteTime": {
     "end_time": "2017-09-19T07:07:04.315465Z",
     "start_time": "2017-09-19T07:07:03.634325Z"
    }
   },
   "outputs": [],
   "source": [
    "# Loading MNIST dataset\n",
    "(X_train_orig, y_train), (X_test_orig, y_test) = mnist.load_data()\n",
    "\n",
    "num_classes = numpy.unique(y_train).shape[0]\n",
    "\n",
    "# flatten 28*28 images to a 784 vector for each image\n",
    "num_pixels = X_train_orig.shape[1] * X_train_orig.shape[2]\n",
    "X_train = X_train_orig.reshape(X_train_orig.shape[0], num_pixels).astype('float32')\n",
    "X_test = X_test_orig.reshape(X_test_orig.shape[0], num_pixels).astype('float32')\n",
    "\n",
    "# normalize inputs from 0-255 to 0-1\n",
    "X_train = X_train / 255\n",
    "X_test = X_test / 255"
   ]
  },
  {
   "cell_type": "markdown",
   "metadata": {},
   "source": [
    "# Model construction"
   ]
  },
  {
   "cell_type": "code",
   "execution_count": null,
   "metadata": {
    "ExecuteTime": {
     "end_time": "2017-09-19T07:17:10.995936Z",
     "start_time": "2017-09-19T07:17:10.904563Z"
    }
   },
   "outputs": [],
   "source": [
    "# Simple 2-layer perceptron\n",
    "def baseline_model():\n",
    "    model = Sequential()\n",
    "    model.add(Dense(num_pixels, input_dim=num_pixels, kernel_initializer='normal', activation='relu'))\n",
    "    model.add(Dense(num_classes, kernel_initializer='normal', activation='softmax'))\n",
    "    model.compile(loss='categorical_crossentropy', optimizer='adam', metrics=['accuracy'])\n",
    "    return model"
   ]
  },
  {
   "cell_type": "markdown",
   "metadata": {},
   "source": [
    "# Active learning prepartions"
   ]
  },
  {
   "cell_type": "code",
   "execution_count": null,
   "metadata": {
    "ExecuteTime": {
     "end_time": "2017-09-19T07:18:22.421123Z",
     "start_time": "2017-09-19T07:18:22.327649Z"
    }
   },
   "outputs": [],
   "source": [
    "# For demonstration we sample 50 images from MNIST as seed examples for AL. \n",
    "# The rest of the images are considered \"unlabeled\"\n",
    "y_seed = pandas.Series([None] * y_train.shape[0], index = range(y_train.shape[0]))\n",
    "known_indexes = np.random.randint(y_train.shape[0], size = 50)\n",
    "y_seed.iloc[known_indexes] = y_train[known_indexes]"
   ]
  },
  {
   "cell_type": "code",
   "execution_count": null,
   "metadata": {
    "ExecuteTime": {
     "end_time": "2017-09-19T07:10:29.091372Z",
     "start_time": "2017-09-19T07:10:28.398883Z"
    },
    "scrolled": true
   },
   "outputs": [],
   "source": [
    "# Creating model for selecting examples from the unlabeled dataset.\n",
    "# We use special wrapper to make sklearn model compatible with libact library.\n",
    "query_model = SklearnProbaAdapter(KerasClassifier(build_fn = baseline_model, verbose = 0))\n",
    "\n",
    "# We use uncertainty sampling strategy from libact and wrap it with adaptor.\n",
    "active_learn_alg_ctor = make_libact_strategy_ctor(lambda trn_ds:\n",
    "                                                  UncertaintySampling(trn_ds,\n",
    "                                                                      model = query_model))\n",
    "\n",
    "# Now we create model for evaluation. In this example it is the same model as the one\n",
    "# for selecting examples.\n",
    "evaluation_model = KerasClassifier(build_fn = baseline_model, verbose = 0)\n",
    "\n",
    "\n",
    "def f1_macro(y_t, y_p):\n",
    "    return f1_score(y_t, y_p, average = 'macro')\n",
    "\n",
    "# We create ActiveLearner object that incupsulates the logic of active learning.\n",
    "active_learner = ActiveLearner(active_learn_alg_ctor = active_learn_alg_ctor,\n",
    "                               y_dtype = 'int',\n",
    "                               X_full_dataset = X_train, \n",
    "                               y_full_dataset = y_seed.values,\n",
    "                               X_test_dataset = X_test,\n",
    "                               y_test_dataset = y_test,\n",
    "                               model_evaluate = evaluation_model,\n",
    "                               eval_metrics = [accuracy_score, f1_macro],\n",
    "                               rnd_start_steps = 0)\n",
    "\n",
    "# X_helper object is needed for data visualization for human annotators. \n",
    "X_helper = pandas.DataFrame(X_train_orig.reshape(-1, 28*28), index = range(X_train_orig.shape[0]))"
   ]
  },
  {
   "cell_type": "markdown",
   "metadata": {},
   "source": [
    "# Invoking annotation widget"
   ]
  },
  {
   "cell_type": "code",
   "execution_count": null,
   "metadata": {
    "ExecuteTime": {
     "end_time": "2017-09-19T07:33:44.367082Z",
     "start_time": "2017-09-19T07:33:40.577203Z"
    }
   },
   "outputs": [
    {
     "name": "stdout",
     "output_type": "stream",
     "text": [
      "2017-09-26 13:20:06,837 - actleto - INFO - Autosave.\n",
      "2017-09-26 13:20:06,843 - actleto - INFO - Saved. File path: mnist_autosave.npy\n",
      "2017-09-26 13:22:06,845 - actleto - INFO - Autosave.\n",
      "2017-09-26 13:22:06,849 - actleto - INFO - Saved. File path: mnist_autosave.npy\n",
      "2017-09-26 13:24:06,851 - actleto - INFO - Autosave.\n",
      "2017-09-26 13:24:06,856 - actleto - INFO - Saved. File path: mnist_autosave.npy\n",
      "2017-09-26 13:26:06,858 - actleto - INFO - Autosave.\n",
      "2017-09-26 13:26:06,864 - actleto - INFO - Saved. File path: mnist_autosave.npy\n",
      "2017-09-26 13:28:06,866 - actleto - INFO - Autosave.\n",
      "2017-09-26 13:28:06,871 - actleto - INFO - Saved. File path: mnist_autosave.npy\n",
      "2017-09-26 13:30:06,872 - actleto - INFO - Autosave.\n",
      "2017-09-26 13:30:06,878 - actleto - INFO - Saved. File path: mnist_autosave.npy\n"
     ]
    }
   ],
   "source": [
    "# We need this try catch if we use autosave feature. It stops autosave thread for the older annotator widgets if we\n",
    "# invoke this cell for the second and next times.\n",
    "try:\n",
    "    if active_learn_ui:\n",
    "        active_learn_ui.stop()\n",
    "except NameError:\n",
    "    pass\n",
    "    \n",
    "# Now we create the active learner widget itself and configure it with created active learning object,\n",
    "# data for visualization (X_helper), and visualizer for images.\n",
    "active_learn_ui = ActiveLearnerUiWidget(active_learner = active_learner, \n",
    "                                        X_helper = X_helper,\n",
    "                                        display_feature_table = False,\n",
    "                                        drop_labels = list(range(0, X_helper.shape[1])),\n",
    "                                        visualizer = ImageVisualizer(columns_range = (0, X_helper.shape[1]), \n",
    "                                                                     img_shape = (28, 28),\n",
    "                                                                     img_mode = 'L',\n",
    "                                                                     preview_shape = (100, 100)),\n",
    "                                        y_labels = {str(elem) : elem for elem in range(10)},\n",
    "                                        save_path = 'mnist.npy',\n",
    "                                        save_time = 120)\n",
    "\n",
    "active_learn_ui"
   ]
  }
 ],
 "metadata": {
  "kernelspec": {
   "display_name": "Python 3",
   "language": "python",
   "name": "python3"
  },
  "language_info": {
   "codemirror_mode": {
    "name": "ipython",
    "version": 3
   },
   "file_extension": ".py",
   "mimetype": "text/x-python",
   "name": "python",
   "nbconvert_exporter": "python",
   "pygments_lexer": "ipython3",
   "version": "3.6.0"
  },
  "toc": {
   "colors": {
    "hover_highlight": "#DAA520",
    "running_highlight": "#FF0000",
    "selected_highlight": "#FFD700"
   },
   "moveMenuLeft": true,
   "nav_menu": {
    "height": "12px",
    "width": "253px"
   },
   "navigate_menu": true,
   "number_sections": true,
   "sideBar": true,
   "threshold": 4,
   "toc_cell": false,
   "toc_section_display": "block",
   "toc_window_display": false
  }
 },
 "nbformat": 4,
 "nbformat_minor": 2
}
