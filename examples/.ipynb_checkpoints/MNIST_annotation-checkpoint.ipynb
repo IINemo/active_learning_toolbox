{
 "cells": [
  {
   "cell_type": "code",
   "execution_count": 1,
   "metadata": {
    "ExecuteTime": {
     "end_time": "2017-09-13T10:03:55.196269Z",
     "start_time": "2017-09-13T10:03:55.150332Z"
    }
   },
   "outputs": [
    {
     "name": "stdout",
     "output_type": "stream",
     "text": [
      "Populating the interactive namespace from numpy and matplotlib\n"
     ]
    },
    {
     "name": "stderr",
     "output_type": "stream",
     "text": [
      "Using TensorFlow backend.\n"
     ]
    }
   ],
   "source": [
    "%load_ext autoreload\n",
    "%autoreload 2\n",
    "\n",
    "import os, sys\n",
    "os.environ['CUDA_VISIBLE_DEVICES'] = ''\n",
    "\n",
    "import matplotlib.pyplot as plt, collections, logging\n",
    "%pylab inline\n",
    "\n",
    "import pandas as pd\n",
    "import numpy as np\n",
    "\n",
    "from keras.datasets import mnist\n",
    "from keras.models import Sequential\n",
    "from keras.layers import Dense\n",
    "from keras.layers import Dropout\n",
    "from keras.utils import np_utils\n",
    "from keras.wrappers.scikit_learn import KerasClassifier\n",
    "\n",
    "from sklearn.metrics import f1_score, accuracy_score, precision_score, recall_score\n",
    "\n",
    "from libact.query_strategies import UncertaintySampling\n",
    "from libact.models import LogisticRegression as LibActLogisticRegression, SklearnProbaAdapter\n",
    "\n",
    "sys.path.append('/notebook')\n",
    "from actleto import ActiveLearner, make_libact_strategy_ctor, MPErr, ActiveLearnerUiWidget, ImageVisualizer"
   ]
  },
  {
   "cell_type": "code",
   "execution_count": 2,
   "metadata": {
    "ExecuteTime": {
     "end_time": "2017-09-13T10:03:59.909544Z",
     "start_time": "2017-09-13T10:03:59.503018Z"
    }
   },
   "outputs": [],
   "source": [
    "(X_train_orig, y_train_orig), (X_test_orig, y_test_orig) = mnist.load_data()\n",
    "\n",
    "# flatten 28*28 images to a 784 vector for each image\n",
    "num_pixels = X_train_orig.shape[1] * X_train_orig.shape[2]\n",
    "X_train = X_train_orig.reshape(X_train_orig.shape[0], num_pixels).astype('float32')\n",
    "X_test = X_test_orig.reshape(X_test_orig.shape[0], num_pixels).astype('float32')\n",
    "\n",
    "# normalize inputs from 0-255 to 0-1\n",
    "X_train = X_train / 255\n",
    "X_test = X_test / 255\n",
    "\n",
    "# one hot encode outputs\n",
    "y_train = np_utils.to_categorical(y_train_orig)\n",
    "y_test = np_utils.to_categorical(y_test_orig)\n",
    "num_classes = y_test.shape[1]"
   ]
  },
  {
   "cell_type": "code",
   "execution_count": 3,
   "metadata": {
    "ExecuteTime": {
     "end_time": "2017-09-13T10:04:00.399571Z",
     "start_time": "2017-09-13T10:04:00.336061Z"
    },
    "collapsed": true
   },
   "outputs": [],
   "source": [
    "def baseline_model():\n",
    "    # create model\n",
    "    model = Sequential()\n",
    "    model.add(Dense(num_pixels, input_dim=num_pixels, kernel_initializer='normal', activation='relu'))\n",
    "    model.add(Dense(num_classes, kernel_initializer='normal', activation='softmax'))\n",
    "    # Compile model\n",
    "    model.compile(loss='categorical_crossentropy', optimizer='adam', metrics=['accuracy'])\n",
    "    return model"
   ]
  },
  {
   "cell_type": "code",
   "execution_count": 4,
   "metadata": {
    "ExecuteTime": {
     "end_time": "2017-09-13T10:04:00.458105Z",
     "start_time": "2017-09-13T10:04:00.401226Z"
    }
   },
   "outputs": [],
   "source": [
    "y_seed = pd.DataFrame(y_train)\n",
    "unknown_indexes = np.random.randint(y_train.shape[0], size = y_train.shape[0] - 500)\n",
    "y_seed.iloc[unknown_indexes] = None"
   ]
  },
  {
   "cell_type": "code",
   "execution_count": 5,
   "metadata": {
    "ExecuteTime": {
     "end_time": "2017-09-13T10:04:17.804119Z",
     "start_time": "2017-09-13T10:04:16.043600Z"
    },
    "scrolled": true
   },
   "outputs": [],
   "source": [
    "selection_model = SklearnProbaAdapter(KerasClassifier(build_fn = baseline_model, verbose = 0))\n",
    "active_learn_alg_ctor = make_libact_strategy_ctor(lambda trn_ds:\n",
    "                                                  UncertaintySampling(trn_ds,\n",
    "                                                                      model = selection_model))\n",
    "evaluation_model = KerasClassifier(build_fn = baseline_model, verbose = 0)\n",
    "\n",
    "\n",
    "def f1_macro(y_t, y_p):\n",
    "    return f1_score(y_t, y_p, average = 'macro')\n",
    "\n",
    "\n",
    "active_learner = ActiveLearner(active_learn_alg_ctor = active_learn_alg_ctor,\n",
    "                               y_dtype = 'int',\n",
    "                               X_full_dataset = X_train, \n",
    "                               y_full_dataset = y_seed.values,\n",
    "                               X_test_dataset = X_test,\n",
    "                               y_test_dataset = y_test_orig,\n",
    "                               model_evaluate = evaluation_model,\n",
    "                               eval_metrics = [accuracy_score, f1_macro],\n",
    "                               rnd_start_steps = 0)\n",
    "\n",
    "X_helper = pd.DataFrame(X_train_orig.reshape(-1, 28*28), index = range(X_train_orig.shape[0]))"
   ]
  },
  {
   "cell_type": "code",
   "execution_count": 9,
   "metadata": {
    "ExecuteTime": {
     "end_time": "2017-09-13T10:04:23.381099Z",
     "start_time": "2017-09-13T10:04:19.582212Z"
    }
   },
   "outputs": [
    {
     "ename": "NameError",
     "evalue": "name 'logger' is not defined",
     "output_type": "error",
     "traceback": [
      "\u001b[0;31m---------------------------------------------------------------------------\u001b[0m",
      "\u001b[0;31mNameError\u001b[0m                                 Traceback (most recent call last)",
      "\u001b[0;32m<ipython-input-9-dcef54287597>\u001b[0m in \u001b[0;36m<module>\u001b[0;34m()\u001b[0m\n\u001b[1;32m     16\u001b[0m                                         \u001b[0msave_path\u001b[0m \u001b[0;34m=\u001b[0m \u001b[0;34m'../data/defterms_dump/results/mnist.npy'\u001b[0m\u001b[0;34m,\u001b[0m\u001b[0;34m\u001b[0m\u001b[0m\n\u001b[1;32m     17\u001b[0m                                         \u001b[0msave_time\u001b[0m \u001b[0;34m=\u001b[0m \u001b[0;36m120\u001b[0m\u001b[0;34m,\u001b[0m\u001b[0;34m\u001b[0m\u001b[0m\n\u001b[0;32m---> 18\u001b[0;31m                                         logger = logger)\n\u001b[0m\u001b[1;32m     19\u001b[0m \u001b[0;34m\u001b[0m\u001b[0m\n\u001b[1;32m     20\u001b[0m \u001b[0mactive_learn_ui\u001b[0m\u001b[0;34m\u001b[0m\u001b[0m\n",
      "\u001b[0;31mNameError\u001b[0m: name 'logger' is not defined"
     ]
    }
   ],
   "source": [
    "try:\n",
    "    if active_learn_ui:\n",
    "        active_learn_ui.stop()\n",
    "except NameError:\n",
    "    pass\n",
    "    \n",
    "active_learn_ui = ActiveLearnerUiWidget(active_learner = active_learner, \n",
    "                                        X_helper = X_helper,\n",
    "                                        display_feature_table = False,\n",
    "                                        drop_labels = list(range(0, X_helper.shape[1])),\n",
    "                                        visualizer = ImageVisualizer(columns_range = (0, X_helper.shape[1]), \n",
    "                                                                     img_shape = (28, 28),\n",
    "                                                                     img_mode = 'L',\n",
    "                                                                     preview_shape = (100, 100)),\n",
    "                                        y_labels = {str(elem) : elem for elem in range(10)},\n",
    "                                        save_path = '../data/defterms_dump/results/mnist.npy',\n",
    "                                        save_time = 120)\n",
    "\n",
    "active_learn_ui"
   ]
  },
  {
   "cell_type": "code",
   "execution_count": 27,
   "metadata": {},
   "outputs": [
    {
     "data": {
      "text/plain": [
       "0     True\n",
       "1    False\n",
       "2    False\n",
       "dtype: bool"
      ]
     },
     "execution_count": 27,
     "metadata": {},
     "output_type": "execute_result"
    }
   ],
   "source": [
    "a = numpy.array([[1, 2],\n",
    "                 [None, None],\n",
    "                 [None, 1]])\n",
    "pd.DataFrame(a).notnull().all(axis=1)"
   ]
  },
  {
   "cell_type": "code",
   "execution_count": 25,
   "metadata": {},
   "outputs": [
    {
     "data": {
      "text/html": [
       "<div>\n",
       "<style>\n",
       "    .dataframe thead tr:only-child th {\n",
       "        text-align: right;\n",
       "    }\n",
       "\n",
       "    .dataframe thead th {\n",
       "        text-align: left;\n",
       "    }\n",
       "\n",
       "    .dataframe tbody tr th {\n",
       "        vertical-align: top;\n",
       "    }\n",
       "</style>\n",
       "<table border=\"1\" class=\"dataframe\">\n",
       "  <thead>\n",
       "    <tr style=\"text-align: right;\">\n",
       "      <th></th>\n",
       "      <th>0</th>\n",
       "      <th>1</th>\n",
       "    </tr>\n",
       "  </thead>\n",
       "  <tbody>\n",
       "    <tr>\n",
       "      <th>0</th>\n",
       "      <td>True</td>\n",
       "      <td>True</td>\n",
       "    </tr>\n",
       "    <tr>\n",
       "      <th>1</th>\n",
       "      <td>False</td>\n",
       "      <td>False</td>\n",
       "    </tr>\n",
       "    <tr>\n",
       "      <th>2</th>\n",
       "      <td>False</td>\n",
       "      <td>True</td>\n",
       "    </tr>\n",
       "  </tbody>\n",
       "</table>\n",
       "</div>"
      ],
      "text/plain": [
       "       0      1\n",
       "0   True   True\n",
       "1  False  False\n",
       "2  False   True"
      ]
     },
     "execution_count": 25,
     "metadata": {},
     "output_type": "execute_result"
    }
   ],
   "source": [
    "pd.DataFrame(a).notnull()"
   ]
  },
  {
   "cell_type": "code",
   "execution_count": 10,
   "metadata": {},
   "outputs": [],
   "source": [
    "np.apply_along_axis?"
   ]
  }
 ],
 "metadata": {
  "kernelspec": {
   "display_name": "Python 3",
   "language": "python",
   "name": "python3"
  },
  "language_info": {
   "codemirror_mode": {
    "name": "ipython",
    "version": 3
   },
   "file_extension": ".py",
   "mimetype": "text/x-python",
   "name": "python",
   "nbconvert_exporter": "python",
   "pygments_lexer": "ipython3",
   "version": "3.6.0"
  },
  "toc": {
   "colors": {
    "hover_highlight": "#DAA520",
    "running_highlight": "#FF0000",
    "selected_highlight": "#FFD700"
   },
   "moveMenuLeft": true,
   "nav_menu": {
    "height": "12px",
    "width": "253px"
   },
   "navigate_menu": true,
   "number_sections": true,
   "sideBar": true,
   "threshold": 4,
   "toc_cell": false,
   "toc_section_display": "block",
   "toc_window_display": false
  }
 },
 "nbformat": 4,
 "nbformat_minor": 2
}
