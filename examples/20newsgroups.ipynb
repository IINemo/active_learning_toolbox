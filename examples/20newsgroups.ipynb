{
 "cells": [
  {
   "cell_type": "markdown",
   "metadata": {},
   "source": [
    "# 20newsgroups example"
   ]
  },
  {
   "cell_type": "code",
   "execution_count": null,
   "metadata": {
    "ExecuteTime": {
     "end_time": "2017-09-19T07:56:12.283842Z",
     "start_time": "2017-09-19T07:56:12.255566Z"
    }
   },
   "outputs": [],
   "source": [
    "%load_ext autoreload\n",
    "%autoreload 2\n",
    "\n",
    "import sys\n",
    "sys.path.append('../')\n",
    "\n",
    "import os\n",
    "os.environ['CUDA_VISIBLE_DEVICES'] = ''"
   ]
  },
  {
   "cell_type": "markdown",
   "metadata": {},
   "source": [
    "# Initialization"
   ]
  },
  {
   "cell_type": "code",
   "execution_count": null,
   "metadata": {
    "ExecuteTime": {
     "end_time": "2017-09-19T07:56:13.148431Z",
     "start_time": "2017-09-19T07:56:12.285935Z"
    },
    "collapsed": true
   },
   "outputs": [],
   "source": [
    "import collections, pandas as pd, numpy as np\n",
    "\n",
    "from sklearn.linear_model import LogisticRegression\n",
    "from sklearn.datasets import fetch_20newsgroups\n",
    "from sklearn.feature_extraction.text import TfidfVectorizer\n",
    "from sklearn.metrics import accuracy_score, f1_score, roc_auc_score\n",
    "\n",
    "from libact.models import LogisticRegression as LibActLogReg\n",
    "from libact.query_strategies import UncertaintySampling\n",
    "\n",
    "from actleto import ActiveLearner, ActiveLearnerUiWidget, make_libact_strategy_ctor"
   ]
  },
  {
   "cell_type": "markdown",
   "metadata": {},
   "source": [
    "# Load and prepare data"
   ]
  },
  {
   "cell_type": "code",
   "execution_count": null,
   "metadata": {
    "ExecuteTime": {
     "end_time": "2017-09-19T07:56:13.820225Z",
     "start_time": "2017-09-19T07:56:13.151600Z"
    },
    "collapsed": true
   },
   "outputs": [],
   "source": [
    "# Loading the 20newsgroups dataset\n",
    "train_dataset = fetch_20newsgroups(subset='train')\n",
    "test_dataset = fetch_20newsgroups(subset='test')"
   ]
  },
  {
   "cell_type": "code",
   "execution_count": null,
   "metadata": {
    "ExecuteTime": {
     "end_time": "2017-09-19T07:56:18.834411Z",
     "start_time": "2017-09-19T07:56:13.823592Z"
    },
    "collapsed": true
   },
   "outputs": [],
   "source": [
    "# Preparing features\n",
    "vectorizer = TfidfVectorizer(min_df=3, max_df=0.5, sublinear_tf=True)\n",
    "\n",
    "X_train = vectorizer.fit_transform(train_dataset.data)\n",
    "Y_train = train_dataset.target\n",
    "\n",
    "X_test = vectorizer.transform(test_dataset.data)\n",
    "Y_test = test_dataset.target"
   ]
  },
  {
   "cell_type": "markdown",
   "metadata": {},
   "source": [
    "# Train-test without active learning"
   ]
  },
  {
   "cell_type": "code",
   "execution_count": null,
   "metadata": {
    "ExecuteTime": {
     "end_time": "2017-09-19T07:56:24.748942Z",
     "start_time": "2017-09-19T07:56:18.836135Z"
    }
   },
   "outputs": [],
   "source": [
    "clf = LogisticRegression()\n",
    "clf.fit(X_train, Y_train)\n",
    "Y_pred = clf.predict(X_test)\n",
    "Y_pred_proba = clf.predict_proba(X_test)\n",
    "print('Accuracy', accuracy_score(Y_test, Y_pred))\n",
    "print('F1 macro', f1_score(Y_test, Y_pred, average='macro'))"
   ]
  },
  {
   "cell_type": "markdown",
   "metadata": {},
   "source": [
    "# Train-test with active learning and human-in-the-loop"
   ]
  },
  {
   "cell_type": "code",
   "execution_count": null,
   "metadata": {
    "ExecuteTime": {
     "end_time": "2017-09-19T07:56:24.779279Z",
     "start_time": "2017-09-19T07:56:24.754386Z"
    },
    "collapsed": true
   },
   "outputs": [],
   "source": [
    "# We choose 20 random examples as seed set for active learning.\n",
    "Y_seed = Y_train.copy().astype('O')\n",
    "unknown_indexes = np.random.randint(Y_seed.shape[0], size = Y_seed.shape[0] - 20)\n",
    "Y_seed[unknown_indexes] = None"
   ]
  },
  {
   "cell_type": "code",
   "execution_count": null,
   "metadata": {
    "ExecuteTime": {
     "end_time": "2017-09-19T07:56:40.927054Z",
     "start_time": "2017-09-19T07:56:38.006929Z"
    },
    "collapsed": true
   },
   "outputs": [],
   "source": [
    "# Creating query strategy. The strategy selects examples for annotations from unlabeled dataset.\n",
    "# We use standard uncertainty sampling strategy from libact and wrap it into adaptor.\n",
    "active_learn_alg_ctor = make_libact_strategy_ctor(lambda trn_ds:\n",
    "                                                  UncertaintySampling(trn_ds,\n",
    "                                                                      model = LibActLogReg()))\n",
    "\n",
    "# Creating ActiveLearning object that implements AL logic.\n",
    "active_learner = ActiveLearner(active_learn_alg_ctor = active_learn_alg_ctor,\n",
    "                               y_dtype = 'int',\n",
    "                               X_full_dataset = X_train, \n",
    "                               y_full_dataset = Y_seed,\n",
    "                               X_test_dataset = X_test,\n",
    "                               y_test_dataset = Y_test,\n",
    "                               model_evaluate = LibActLogReg(), # We use logreg from libact for choosing samples.\n",
    "                               eval_metrics = [accuracy_score, f1_score],\n",
    "                               rnd_start_steps = 0)\n",
    "\n",
    "# Creaing X_helper object for visualization dataset for humans.\n",
    "X_helper = pd.DataFrame(data={ 'text' : train_dataset.data })"
   ]
  },
  {
   "cell_type": "code",
   "execution_count": null,
   "metadata": {
    "ExecuteTime": {
     "end_time": "2017-09-19T07:56:47.558000Z",
     "start_time": "2017-09-19T07:56:45.335239Z"
    }
   },
   "outputs": [],
   "source": [
    "# This try-catch block is needed to stop autosave thread in case we invoke the cell multiple times.\n",
    "try:\n",
    "    if active_learn_ui:\n",
    "        active_learn_ui.stop()\n",
    "except NameError:\n",
    "    pass\n",
    "\n",
    "# Creaing the active learner widget itself and configure it with active_learner, X_helper.\n",
    "# The default visualizer will preview the visualize_columns with VisualizerTextArea.\n",
    "active_learn_ui = ActiveLearnerUiWidget(active_learner = active_learner, \n",
    "                                        X_helper = X_helper,\n",
    "                                        display_feature_table = False,\n",
    "                                        drop_labels = [],\n",
    "                                        visualize_columns = ['text'],\n",
    "                                        y_labels = { label : i for i, label in enumerate(train_dataset.target_names) },\n",
    "                                        save_path = './20ng_active_dump.npy',\n",
    "                                        save_time = 120)\n",
    "\n",
    "active_learn_ui"
   ]
  }
 ],
 "metadata": {
  "kernelspec": {
   "display_name": "Python 3",
   "language": "python",
   "name": "python3"
  },
  "language_info": {
   "codemirror_mode": {
    "name": "ipython",
    "version": 3
   },
   "file_extension": ".py",
   "mimetype": "text/x-python",
   "name": "python",
   "nbconvert_exporter": "python",
   "pygments_lexer": "ipython3",
   "version": "3.6.0"
  },
  "toc": {
   "colors": {
    "hover_highlight": "#DAA520",
    "running_highlight": "#FF0000",
    "selected_highlight": "#FFD700"
   },
   "moveMenuLeft": true,
   "nav_menu": {
    "height": "105px",
    "width": "252px"
   },
   "navigate_menu": true,
   "number_sections": true,
   "sideBar": true,
   "threshold": 4,
   "toc_cell": false,
   "toc_section_display": "block",
   "toc_window_display": false
  }
 },
 "nbformat": 4,
 "nbformat_minor": 2
}
